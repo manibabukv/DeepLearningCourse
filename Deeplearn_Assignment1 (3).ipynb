{
  "nbformat": 4,
  "nbformat_minor": 0,
  "metadata": {
    "colab": {
      "provenance": []
    },
    "kernelspec": {
      "name": "python3",
      "display_name": "Python 3"
    },
    "language_info": {
      "name": "python"
    }
  },
  "cells": [
    {
      "cell_type": "markdown",
      "source": [
        "Assignment-1: Python Basics and Numpy"
      ],
      "metadata": {
        "id": "NS7afMZuvPUG"
      }
    },
    {
      "cell_type": "markdown",
      "source": [
        "Question-1"
      ],
      "metadata": {
        "id": "wF_QfsGQw69B"
      }
    },
    {
      "cell_type": "code",
      "source": [
        "#Importing necessary libraries\n",
        "import string\n",
        "import numpy as np\n",
        "import re\n",
        "\n",
        "\n",
        "# Empty list for all words from all files and all docs\n",
        "all_words = []\n",
        "docs = []\n",
        "# Iterate through each text file\n",
        "for i in range(1, 21):\n",
        "    text_file = open(f'/content/{i}.txt', 'rb')\n",
        "    text = text_file.read().decode('utf-8', 'ignore')\n",
        "    # Removing punctuations using regular expressions\n",
        "    text = re.sub(f'[{string.punctuation}]', '', text)\n",
        "    # Removing numbers from the text data\n",
        "    text = ''.join(c for c in text if not c.isdigit())\n",
        "    # Coverting to lower case to avoid mismatches\n",
        "    text = text.lower()\n",
        "    docs.append(text)\n",
        "    words = text.split() #using split() function for tokenization\n",
        "\n",
        "    # Adding words to the list of all words\n",
        "    all_words.extend(words)\n",
        "\n",
        "# Getting the unique words from the list of all words\n",
        "vocab = set(all_words)\n",
        "\n",
        "\n",
        "#Setting matrix dimensions\n",
        "M = len(vocab)\n",
        "N = len(docs)\n",
        "\n",
        "# Create an zero matrix with shape (M, N)\n",
        "wdm = np.zeros((M, N))\n",
        "\n",
        "# Iterating through each doc and incrementing the corresponding value for each word\n",
        "for j, doc in enumerate(docs):\n",
        "    for word in doc.split():\n",
        "        if word in vocab:\n",
        "            i = list(vocab).index(word)\n",
        "            wdm[i, j] += 1\n",
        "\n",
        "# Print the matrix and its dimensions\n",
        "print(wdm)\n",
        "print(wdm.shape)"
      ],
      "metadata": {
        "colab": {
          "base_uri": "https://localhost:8080/"
        },
        "id": "1JXmW14CxrlU",
        "outputId": "ee729b75-a7ca-4243-a027-b3cbc710dc16"
      },
      "execution_count": 7,
      "outputs": [
        {
          "output_type": "stream",
          "name": "stdout",
          "text": [
            "[[0. 0. 0. ... 0. 0. 0.]\n",
            " [0. 0. 0. ... 0. 0. 1.]\n",
            " [0. 0. 0. ... 0. 0. 1.]\n",
            " ...\n",
            " [0. 0. 0. ... 1. 0. 0.]\n",
            " [0. 0. 0. ... 0. 0. 0.]\n",
            " [0. 0. 0. ... 0. 0. 0.]]\n",
            "(1130, 20)\n"
          ]
        }
      ]
    },
    {
      "cell_type": "markdown",
      "source": [
        "Question-2"
      ],
      "metadata": {
        "id": "IZPAhA0HxI28"
      }
    },
    {
      "cell_type": "code",
      "source": [
        "#importing necessary libraries\n",
        "import numpy as np\n",
        "import matplotlib.pyplot as plt\n",
        "\n",
        "print(\"Heatmap is Displayed below:\")\n",
        "\n",
        "# Creates heatmap of the matrix and setting parameters\n",
        "plt.imshow(wdm, cmap='Blues', vmin=np.min(wdm), vmax=np.max(wdm))\n",
        "plt.colorbar() #Displays scale bar\n",
        "plt.show()\n"
      ],
      "metadata": {
        "colab": {
          "base_uri": "https://localhost:8080/",
          "height": 287
        },
        "id": "Ljwa8n70KepE",
        "outputId": "3da220bf-1009-4a0b-c9da-2cd1035cdc70"
      },
      "execution_count": 9,
      "outputs": [
        {
          "output_type": "stream",
          "name": "stdout",
          "text": [
            "Heatmap is Displayed below:\n"
          ]
        },
        {
          "output_type": "display_data",
          "data": {
            "text/plain": [
              "<Figure size 432x288 with 2 Axes>"
            ],
            "image/png": "[encoded data removed]"
          },
          "metadata": {
            "needs_background": "light"
          }
        }
      ]
    },
    {
      "cell_type": "markdown",
      "source": [
        "Question-3"
      ],
      "metadata": {
        "id": "My_RXemRxmNd"
      }
    },
    {
      "cell_type": "code",
      "source": [
        "import numpy as np\n",
        "\n",
        "# Get the number of documents\n",
        "N = len(docs)\n",
        "\n",
        "# Getting count of unique words in each doc into a list\n",
        "word_counts = [[doc.count(word) for word in set(doc.split())] for doc in docs]\n",
        "\n",
        "# Term frequency calculation\n",
        "tf = wdm / np.sum(wdm, axis=0)\n",
        "\n",
        "# Inverse document frquency calculation\n",
        "idf = np.log(N / np.count_nonzero(wdm, axis=1))\n",
        "idf = np.reshape(idf, (len(idf),1))\n",
        "\n",
        "# TF-IDF scores\n",
        "tf_idf = tf * idf\n",
        "\n",
        "# Getting tf-idf scores for word in the matrix\n",
        "scores = np.array(tf_idf.mean(axis=1)).ravel().tolist()\n",
        "scores_data = dict(zip(all_words, scores))\n",
        "\n",
        "print(\"The TF-IDF Scores for each word are below:\")\n",
        "print(scores_data)\n"
      ],
      "metadata": {
        "colab": {
          "base_uri": "https://localhost:8080/"
        },
        "id": "bvZHMSxlqVyP",
        "outputId": "22c93a57-6798-459b-b68f-44667efb5be0"
      },
      "execution_count": 10,
      "outputs": [
        {
          "output_type": "stream",
          "name": "stdout",
          "text": [
            "The TF-IDF Scores for each word are below:\n",
            "{'in': 0.0017021206099738586, 'days': 0.001976388283007331, 'nasas': 0.0010259357101212298, 'cassini': 0.0018667574470824563, 'spacecraft': 0.003032117685783392, 'will': 0.0009854382478796022, 'nosedive': 0.0006627726268924759, 'into': 0.002672214820756979, 'saturn': 0.000960170600498074, 'and': 0.0018266660204597507, 'burn': 0.0006627726268924759, 'up': 0.0009133330102298753, 'the': 0.002139808766824279, 'planets': 0.0023893170589730788, 'atmosphere': 0.0010259357101212298, 'its': 0.0017056185874029972, 'final': 0.0013024922928495614, 'suicidal': 0.0017056185874029972, 'step': 0.001126215140433831, 'of': 0.0, 'a': 0.001654190032303375, 'monthslong': 0.000960170600498074, 'dance': 0.0011347470733159056, 'through': 0.0013024922928495614, 'saturns': 0.000823003371855492, 'rings': 0.001152204720597689, 'that': 0.0030174753721352197, 'has': 0.0010474588369069897, 'given': 0.004848936308201048, 'scientists': 0.003245693381269924, 'an': 0.0010259357101212298, 'unprecedented': 0.0017031316037787348, 'view': 0.0020293266894856284, 'sixth': 0.000823003371855492, 'planet': 0.0011095304716866633, 'from': 0.001152204720597689, 'sun': 0.0009854382478796022, 'also': 0.0013024922928495614, 'end': 0.0006627726268924759, 'mission': 0.001152204720597689, 'revolutionized': 0.0010259357101212298, 'our': 0.0017021206099738586, 'understanding': 0.0011982929094215963, 'opened': 0.0020518714202424596, 'eyes': 0.000823003371855492, 'to': 0.0011095304716866633, 'two': 0.0009854382478796022, 'worlds': 0.0011982929094215963, 'could': 0.0010986886649624566, 'be': 0.001748637238027629, 'home': 0.0018266660204597507, 'alien': 0.0006627726268924759, 'life': 0.0011347470733159056, 'moons': 0.0009854382478796022, 'titan': 0.003952740661459322, 'enceladus': 0.001126215140433831, 'it': 0.0011982929094215963, 'really': 0.001152204720597689, 'is': 0.0010699043834121395, 'era': 0.0015625289897709873, 'fans': 0.003498413731661804, 'are': 0.0011347470733159056, 'devastated': 0.0009133330102298753, 'microsoft': 0.0010259357101212298, 'responded': 0.0032097131502364187, 'strongly': 0.002139808766824279, 'trump': 0.0011095304716866633, 'administrations': 0.0010259357101212298, 'decision': 0.0013024922928495614, 'on': 0.0013024922928495614, 'tuesday': 0.0017021206099738586, 'move': 0.0013024922928495614, 'toward': 0.000823003371855492, 'rescinding': 0.0019957202100328404, 'or': 0.0013616964879790867, 'replacing': 0.002928244205984762, 'daca': 0.0017021206099738586, 'within': 0.0006627726268924759, 'six': 0.0009854382478796022, 'months': 0.001152204720597689, 'there': 0.0024441914186694213, 'nothing': 0.0011982929094215963, 'we': 0.001126215140433831, 'pushing': 0.003067432948244456, 'more': 0.0006627726268924759, 'for': 0.0011982929094215963, 'congress': 0.0006064235371566783, 'act': 0.001152204720597689, 'president': 0.0009854382478796022, 'chief': 0.0013024922928495614, 'legal': 0.0006627726268924759, 'officer': 0.0013255452537849518, 'brad': 0.0011347470733159056, 'smith': 0.0015047696453549168, 'said': 0.0011095304716866633, 'interview': 0.0009133330102298753, 'with': 0.0017745781252531182, 'npr': 0.0013024922928495614, 'put': 0.0009133330102298753, 'stake': 0.001646006743710984, 'ground': 0.000960170600498074, 'care': 0.0027714482457129866, 'about': 0.0011095304716866633, 'tax': 0.0009854382478796022, 'reform': 0.00388248728644791, 'bill': 0.0017021206099738586, 'noting': 0.0017021206099738586, 'entire': 0.0010474588369069897, 'business': 0.002047753541200238, 'community': 0.0013616964879790867, 'cares': 0.0009854382478796022, 'one': 0.0009133330102298753, 'but': 0.0010259357101212298, 'this': 0.0010259357101212298, 'needs': 0.0010474588369069897, 'settled': 0.0031189653220642143, 'first': 0.004296883591625314, 'added': 0.0033684097307866423, 'wont': 0.0019540728622789356, 'easy': 0.0013616964879790867, 'government': 0.000823003371855492, 'deport': 0.003123990789324813, 'employees': 0.0015549178195999303, 'who': 0.0017743973273670534, 'dreamers': 0.001126215140433831, 'governments': 0.0011982929094215963, 'going': 0.004328219545937194, 'have': 0.000823003371855492, 'go': 0.003539068065574817, 'us': 0.0022694941466318112, 'get': 0.000823003371855492, 'person': 0.0010699043834121395, 'latest': 0.0022676013287356495, 'tech': 0.0006064235371566783, 'company': 0.0017056185874029972, 'speak': 0.000823003371855492, 'out': 0.0018733152765794774, 'against': 0.0013616964879790867, 'made': 0.0013024922928495614, 'similar': 0.0026430280133705143, 'comments': 0.0009133330102298753, 'public': 0.001152204720597689, 'letter': 0.0025550692915212343, 'putin': 0.001510545434226567, 'development': 0.001126215140433831, 'ai': 0.0013024922928495614, 'raises': 0.000823003371855492, 'both': 0.001126215140433831, 'colossal': 0.001152204720597689, 'opportunities': 0.0011095304716866633, 'threats': 0.0010474588369069897, 'difficult': 0.000823003371855492, 'predict': 0.001152204720597689, 'whoever': 0.0010474588369069897, 'becomes': 0.0010474588369069897, 'leader': 0.0037257641257718186, 'sphere': 0.0032656246317717364, 'become': 0.0028470776550111607, 'ruler': 0.0009133330102298753, 'world': 0.003065308411608669, 'he': 0.0017021206099738586, 'at': 0.004566665051149376, 'meeting': 0.000960170600498074, 'students': 0.0016101993657301021, 'friday': 0.0011347470733159056, 'united': 0.0011347470733159056, 'states': 0.0010474588369069897, 'generally': 0.0013024922928495614, 'considered': 0.0010699043834121395, 'nation': 0.0011095304716866633, 'leading': 0.0018733152765794774, 'charge': 0.0015827620463839697, 'towards': 0.0009133330102298753, 'currently': 0.003119043530672508, 'giants': 0.0009854382478796022, 'like': 0.0017056185874029972, 'google': 0.0006064235371566783, 'pouring': 0.0010474588369069897, 'large': 0.0011347470733159056, 'amounts': 0.000823003371855492, 'cash': 0.0011095304716866633, 'research': 0.0027399990306896257, 'projects': 0.0011347470733159056, 'last': 0.0010259357101212298, 'week': 0.0012041183853376421, 'report': 0.0006064235371566783, 'by': 0.000823003371855492, 'goldman': 0.0013024922928495614, 'sachs': 0.0013189196364128439, 'found': 0.001510545434226567, 'china': 0.001819270611470035, 'capability': 0.0022301088389157704, 'catch': 0.0011095304716866633, 'believe': 0.0025849832100576413, 'technology': 0.0009133330102298753, 'priority': 0.0006064235371566783, 'agenda': 0.002022585951408159, 'expect': 0.0010699043834121395, 'further': 0.0023495474861313843, 'nationalregional': 0.000823003371855492, 'policy': 0.0010259357101212298, 'funding': 0.0010259357101212298, 'support': 0.0012128470743133567, 'follow': 0.003094383128924805, 'investment': 0.001126215140433831, 'bank': 0.003473090511638529, 'meat': 0.0013024922928495614, 'doesnt': 0.0006627726268924759, 'require': 0.0011095304716866633, 'slaughter': 0.0006627726268924759, 'animals': 0.000823003371855492, 'fashion': 0.001297978019447486, 'provides': 0.0024422776294806183, 'ecofriendly': 0.0013024922928495614, 'alternative': 0.001152204720597689, 'leather': 0.0017880214906573944, 'dairy': 0.003202089936029337, 'products': 0.000960170600498074, 'lactosefree': 0.0011982929094215963, 'brewed': 0.000823003371855492, 'lab': 0.0011347470733159056, 'most': 0.0022265492732227, 'san': 0.0011347470733159056, 'franciscans': 0.0011095304716866633, 'arent': 0.0017056185874029972, 'aware': 0.0011347470733159056, 'theres': 0.0006064235371566783, 'heart': 0.0006064235371566783, 'financial': 0.0009133330102298753, 'district': 0.0013024922928495614, 'where': 0.0017056185874029972, 'entrepreneurs': 0.0006627726268924759, 'working': 0.0011347470733159056, 'all': 0.000960170600498074, 'these': 0.001739131996101969, 'things': 0.0011095304716866633, 'which': 0.0009133330102298753, 'run': 0.002304409441195378, 'biotechnology': 0.0006627726268924759, 'accelerator': 0.002248390108807071, 'program': 0.000823003371855492, 'called': 0.000960170600498074, 'indiebio': 0.0018361401414624078, 'funded': 0.000960170600498074, 'earlystage': 0.0017056185874029972, 'startups': 0.000960170600498074, 'biggest': 0.0011982929094215963, 'successes': 0.0013024922928495614, 'memphis': 0.0011419998030020068, 'meats': 0.0006064235371566783, 'raised': 0.0011095304716866633, 'million': 0.0009133330102298753, 'past': 0.0013024922928495614, 'month': 0.0011982929094215963, 'clean': 0.0010699043834121395, 'bioreactorbrewed': 0.0015625289897709873, 'slew': 0.0009854382478796022, 'highprofile': 0.0010474588369069897, 'investors': 0.0006064235371566783, 'including': 0.000960170600498074, 'billionaires': 0.0032617249296162123, 'gates': 0.0013024922928495614, 'richard': 0.0025614882015364384, 'branson': 0.0015127399304359114, 'elon': 0.0009133330102298753, 'musks': 0.002010294634958771, 'brother': 0.0006627726268924759, 'kimball': 0.001382139435714366, 'general': 0.005107540795594251, 'electric': 0.0006627726268924759, 'ceo': 0.0016337022757267838, 'jack': 0.0013024922928495614, 'welch': 0.0017021206099738586, 'was': 0.002304409441195378, 'investor': 0.001806223636340723, 'so': 0.001152204720597689, 'i': 0.0021610962783572066, 'just': 0.0006627726268924759, 'want': 0.0019883178806774275, 'say': 0.0006064235371566783, 'my': 0.0041648975597316, 'equity': 0.0010259357101212298, 'analogy': 0.0013024922928495614, 'incomplete': 0.0020518714202424596, 'especially': 0.0016607478618003962, 'if': 0.0010474588369069897, 'doing': 0.001152204720597689, 'blockchain': 0.0023112146685017564, 'token': 0.0011347470733159056, 'compliant': 0.0006627726268924759, 'regulations': 0.0009133330102298753, 'you': 0.0018910342846055954, 'need': 0.0009854382478796022, 'utility': 0.0013255452537849518, 'component': 0.003204318538367993, 'not': 0.001126215140433831, 'use': 0.002110813980564235, 'as': 0.0013255452537849518, 'proxy': 0.001126215140433831, 'equities': 0.0018249908736938912, 'too': 0.0011982929094215963, 'hard': 0.002402132944758826, 'do': 0.000823003371855492, 'many': 0.000960170600498074, 'interesting': 0.0022694941466318112, 'can': 0.0006064235371566783, 'tokenized': 0.000960170600498074, 'networks': 0.0006627726268924759, 'while': 0.0006627726268924759, 'stickler': 0.0009854382478796022, 'every': 0.0009133330102298753, 'point': 0.002304409441195378, 'making': 0.0032097131502364187, 'distinction': 0.0013024922928495614, 'very': 0.001126215140433831, 'important': 0.008528092937014984, 'keep': 0.0006064235371566783, 'mind': 0.0010474588369069897, 'work': 0.0017021206099738586, 'your': 0.0026049845856991227, 'lawyers': 0.0019708764957592044, 'ensure': 0.0013024922928495614, 'tokens': 0.0017932253603014237, 'blockchainbased': 0.0006064235371566783, 'assets': 0.0011982929094215963, 'relative': 0.0017021206099738586, 'existing': 0.0010699043834121395, 'secondary': 0.0010259357101212298, 'markets': 0.0011982929094215963, 'either': 0.0010474588369069897, 'property': 0.0009854382478796022, 'houses': 0.0009133330102298753, 'scale': 0.0011982929094215963, 'what': 0.001709590575894209, 'happening': 0.0010259357101212298, 'market': 0.0011347470733159056, 'unparalleled': 0.0010259357101212298, 'thing': 0.001152204720597689, 'bunch': 0.0011095304716866633, 'small': 0.0006627726268924759, 'quite': 0.0033421575672059286, 'another': 0.001126215140433831, 'turn': 0.0010259357101212298, 'internet': 0.0010259357101212298, 'itself': 0.0013616964879790867, 'anyone': 0.0010699043834121395, 'connection': 0.0006627726268924759, 'purchase': 0.0011982929094215963, 'see': 0.0026049845856991227, 'shapeshiftio': 0.0011095304716866633, 'great': 0.0009133330102298753, 'example': 0.0006627726268924759, 'former': 0.0006064235371566783, 'barack': 0.002304409441195378, 'obama': 0.0009133330102298753, 'decried': 0.0020949176738139794, 'his': 0.0010474588369069897, 'successors': 0.000960170600498074, 'amnesty': 0.0013024922928495614, 'people': 0.0006064235371566783, 'brought': 0.0015676411439098468, 'america': 0.0010259357101212298, 'illegally': 0.0021172703903554356, 'children': 0.0017056185874029972, 'describing': 0.001126215140433831, 'wrong': 0.002319958296676923, 'selfdefeating': 0.001152204720597689, 'cruel': 0.0013024922928495614, 'rare': 0.000960170600498074, 'reentry': 0.0013816128038547002, 'onto': 0.0013024922928495614, 'political': 0.0017056185874029972, 'stage': 0.001737746544860043, 'used': 0.0038616898816416154, 'facebook': 0.001126215140433831, 'post': 0.0011095304716866633, 'slam': 0.0006627726268924759, 'trumps': 0.0039392385497665425, 'call': 0.001126215140433831, 'target': 0.0011095304716866633, 'young': 0.0010474588369069897, 'because': 0.0010259357101212298, 'they': 0.004235460063897219, 'done': 0.0021645784993651685, 'start': 0.0006627726268924759, 'new': 0.0017056185874029972, 'businesses': 0.001654190032303375, 'staff': 0.0010474588369069897, 'labs': 0.0009854382478796022, 'serve': 0.0013024922928495614, 'military': 0.001806223636340723, 'otherwise': 0.0006064235371566783, 'contribute': 0.0006627726268924759, 'country': 0.000960170600498074, 'love': 0.0006064235371566783, 'wrote': 0.00344319945729426, 'donald': 0.0017056185874029972, 'announcement': 0.00332859141505999, 'scrap': 0.0022843371261880487, 'programme': 0.0011982929094215963, 'met': 0.0011095304716866633, 'protests': 0.001126215140433831, 'across': 0.0013255452537849518, 'hundreds': 0.0010259357101212298, 'gathered': 0.0009854382478796022, 'outside': 0.001646006743710984, 'white': 0.0017056185874029972, 'house': 0.002619513240325353, 'protest': 0.0013024922928495614, 'attorney': 0.0023416495788593774, 'jeff': 0.0011982929094215963, 'sessions': 0.0010259357101212298, 'defending': 0.0024690101155664763, 'lawful': 0.0009755318234622404, 'system': 0.0006064235371566783, 'immigration': 0.0013616964879790867, 'serves': 0.0010259357101212298, 'national': 0.0019264608719130132, 'interest': 0.0011095304716866633, 'everyone': 0.0006064235371566783, 'admitted': 0.0009133330102298753, 'bond': 0.0011095304716866633, 'yields': 0.0006627726268924759, 'due': 0.001152204720597689, 'rise': 0.002923281944148963, 'big': 0.000823003371855492, 'way': 0.000960170600498074, 'according': 0.0012128470743133567, 'strategist': 0.0013024922928495614, 'larry': 0.0010699043834121395, 'mcdonald': 0.0017056185874029972, 'acg': 0.002530149329887075, 'analytics': 0.0011982929094215963, 'year': 0.0027233929759581735, 'treasury': 0.0009133330102298753, 'yield': 0.0016430389580574922, 'fell': 0.0013616964879790867, 'percent': 0.0011095304716866633, 'lowest': 0.0034112371748059945, 'level': 0.0013024922928495614, 'since': 0.0010699043834121395, 'november': 0.001152204720597689, 'economy': 0.0026049845856991227, 'continues': 0.002304409441195378, 'firm': 0.001748637238027629, 'footing': 0.0006627726268924759, 'reflects': 0.0013024922928495614, 'global': 0.0027319313949664597, 'jitters': 0.0006064235371566783, 'geopolitical': 0.001126215140433831, 'risk': 0.000960170600498074, 'coming': 0.001152204720597689, 'north': 0.005879718714941594, 'korea': 0.001126215140433831, 'driving': 0.0011982929094215963, 'much': 0.0017932253603014237, 'lower': 0.0023888641935209546, 'cnbcs': 0.0013024922928495614, 'trading': 0.0011347470733159056, 'being': 0.002880511801494222, 'driven': 0.0010699043834121395, 'unsustainably': 0.0010259357101212298, 'reflect': 0.00314237651072097, 'strength': 0.0010259357101212298, 'greater': 0.0010474588369069897, 'perceived': 0.0009854382478796022, 'chance': 0.001152204720597689, 'earning': 0.001152204720597689, 'money': 0.0010699043834121395, 'other': 0.002139808766824279, 'higher': 0.0013024922928495614, 'expected': 0.0013024922928495614, 'rate': 0.0026510905075699037, 'inflation': 0.0011982929094215963, 'loftier': 0.0017021206099738586, 'tend': 0.0024256941486267133, 'based': 0.001983664302172907, 'metric': 0.0021641220568327834, 'strikingly': 0.0010474588369069897, 'low': 0.0009133330102298753, 'indeed': 0.000960170600498074, 'points': 0.0052099691713982455, 'fridays': 0.000960170600498074, 'reading': 0.002304409441195378, 'institute': 0.0021641220568327834, 'supply': 0.0010259357101212298, 'management': 0.0009854382478796022, 'manufacturing': 0.0009133330102298753, 'index': 0.000960170600498074, 'came': 0.006379944245468075, 'highest': 0.0013816128038547002, 'back': 0.0013616964879790867, 'then': 0.0010474588369069897, 'were': 0.0006627726268924759, 'than': 0.0015548169440045613, 'now': 0.0010699043834121395, 'noted': 0.001126215140433831, 'apples': 0.0013616964879790867, 'next': 0.0011982929094215963, 'iphone': 0.0009854382478796022, 'cycle': 0.0013024922928495614, 'yet': 0.0024690101155664763, 'necessarily': 0.0012128470743133567, 'mean': 0.0022843371261880487, 'stock': 0.000823003371855492, 'soaring': 0.002304409441195378, 'companys': 0.0022867762439632926, 'wellknown': 0.0011982929094215963, 'followers': 0.001126215140433831, 'pullback': 0.000960170600498074, 'apple': 0.000823003371855492, 'shares': 0.000960170600498074, 'three': 0.0021610962783572066, 'gene': 0.000823003371855492, 'munster': 0.0006064235371566783, 'told': 0.0013816128038547002, 'power': 0.001126215140433831, 'lunch': 0.0006627726268924759, 'history': 0.0006627726268924759, 'over': 0.0013816128038547002, 'four': 0.002139808766824279, 'years': 0.003119108252253318, 'little': 0.0013024922928495614, 'bit': 0.0017745781252531182, 'look': 0.0017021206099738586, 'happens': 0.000823003371855492, 'when': 0.0014549301411775563, 'announced': 0.001789680492172263, 'after': 0.0021344460881570285, 'covered': 0.0021610962783572066, 'wall': 0.0026913332255774558, 'street': 0.0015625289897709873, 'analyst': 0.0013024922928495614, 'before': 0.0022190609433733266, 'becoming': 0.001152204720597689, 'managing': 0.0009854382478796022, 'partner': 0.0024463902965106733, 'venture': 0.0011982929094215963, 'capital': 0.0011095304716866633, 'loup': 0.0010259357101212298, 'ventures': 0.0009133330102298753, 'runups': 0.0006627726268924759, 'had': 0.0013024922928495614, 'product': 0.0017021206099738586, 'would': 0.0032008319015075963, 'suggest': 0.0039074768785486835, 'typically': 0.0006627726268924759, 'tailoff': 0.001920341200996148, 'same': 0.0026233069388073996, 'launched': 0.0010259357101212298, 'billionmile': 0.001126215140433831, 'journey': 0.0017378248167105894, 'earth': 0.004952409798948386, 'oct': 0.0010699043834121395, 'named': 0.0006064235371566783, 'astronomer': 0.0009854382478796022, 'giovanni': 0.0010474588369069897, 'discovered': 0.0011095304716866633, 'gap': 0.001126215140433831, 'carried': 0.001152204720597689, 'single': 0.0015548169440045613, 'passenger': 0.0006627726268924759, 'huygens': 0.0012884621616377902, 'lander': 0.0037740605267522704, 'built': 0.0006627726268924759}\n"
          ]
        }
      ]
    },
    {
      "cell_type": "markdown",
      "source": [
        "Question-4"
      ],
      "metadata": {
        "id": "wAXRGJp9023c"
      }
    },
    {
      "cell_type": "code",
      "source": [
        "#importing necessary libraries\n",
        "from sklearn.metrics.pairwise import cosine_similarity\n",
        "from sklearn.feature_extraction.text import TfidfVectorizer\n",
        "import numpy as np\n",
        "\n",
        "# TfidfVectorizer object creation\n",
        "tfidf_obj = TfidfVectorizer()\n",
        "\n",
        "# Word document matrix creation by fitting TfidfVectorizer\n",
        "word_document_matrix = tfidf_obj.fit_transform(docs)\n",
        "\n",
        "# Find the cosine similarity between  given document and all other documents\n",
        "given_document = docs[9]\n",
        "given_document_matrix = tfidf_obj.transform([given_document])\n",
        "cosine_similarities = cosine_similarity(given_document_matrix, word_document_matrix).flatten()\n",
        "\n",
        "# Find the indices of the three most similar documents\n",
        "indices = cosine_similarities.argsort()[-4:-1][::-1]\n",
        "\n",
        "# Print the three most similar documents\n",
        "print(\"Three most similar documents to 10.txt are:\")\n",
        "for i in indices:\n",
        "    print(f\"{i+1}.txt\")"
      ],
      "metadata": {
        "colab": {
          "base_uri": "https://localhost:8080/"
        },
        "id": "wUrxXShTSmLJ",
        "outputId": "5fa54f8e-76be-4922-cf41-316c0e8f295d"
      },
      "execution_count": 16,
      "outputs": [
        {
          "output_type": "stream",
          "name": "stdout",
          "text": [
            "Three most similar documents to 10.txt are:\n",
            "6.txt\n",
            "16.txt\n",
            "2.txt\n"
          ]
        }
      ]
    },
    {
      "cell_type": "markdown",
      "source": [
        "Question-5"
      ],
      "metadata": {
        "id": "gDxy7YJs1Dqo"
      }
    },
    {
      "cell_type": "code",
      "source": [
        "import numpy as np\n",
        "\n",
        "# Setting matrix dimensions to N*N\n",
        "N = len(docs)\n",
        "B = np.zeros((N, N))\n",
        "\n",
        "# Identifying common words count and setting the matrix values\n",
        "for i in range(N):\n",
        "    for j in range(N):\n",
        "        common_words = set(docs[i].split()) & set(docs[j].split())\n",
        "        B[i, j] = len(common_words)\n",
        "print(\"B = \")\n",
        "# Print matrix B\n",
        "print(B)"
      ],
      "metadata": {
        "colab": {
          "base_uri": "https://localhost:8080/"
        },
        "id": "CB2dtLpBijuk",
        "outputId": "79e8f2ba-8b2c-407c-dc2d-5917e0814241"
      },
      "execution_count": 17,
      "outputs": [
        {
          "output_type": "stream",
          "name": "stdout",
          "text": [
            "B = \n",
            "[[ 63.  13.  14.  14.  15.  16.  15.  13.  18.  10.  12.  12.   9.  21.\n",
            "   11.  16.   8.  14.  13.  13.]\n",
            " [ 13.  93.  21.  16.  23.  25.  17.  20.  12.  22.  16.  13.  15.  16.\n",
            "   17.  17.  12.  21.  93.  18.]\n",
            " [ 14.  21.  88.  12.  17.  17.  18.  19.   8.  15.  15.  12.  15.  19.\n",
            "   12.  17.  10.  16.  21.  17.]\n",
            " [ 14.  16.  12.  91.  19.  15.  13.  17.  14.  13.  17.  14.  17.  21.\n",
            "   13.  12.  12.  20.  16.  15.]\n",
            " [ 15.  23.  17.  19. 109.  23.  18.  23.  11.  16.  18.  19.  16.  20.\n",
            "   19.  18.  11.  26.  23.  20.]\n",
            " [ 16.  25.  17.  15.  23. 108.  17.  16.  13.  37.  18.  16.  14.  19.\n",
            "   14.  17.  14.  21.  25.  20.]\n",
            " [ 15.  17.  18.  13.  18.  17. 107.  22.  12.  16.  14.  19.  23.  22.\n",
            "   15.  17.  10.  20.  17.  21.]\n",
            " [ 13.  20.  19.  17.  23.  16.  22.  97.  16.  14.  20.  11.  17.  21.\n",
            "   22.  16.  12.  30.  20.  22.]\n",
            " [ 18.  12.   8.  14.  11.  13.  12.  16.  87.  14.  13.  11.  15.  19.\n",
            "   19.  12.  12.  14.  12.  14.]\n",
            " [ 10.  22.  15.  13.  16.  37.  16.  14.  14.  96.  18.  15.  14.  18.\n",
            "   13.  18.  11.  16.  22.  19.]\n",
            " [ 12.  16.  15.  17.  18.  18.  14.  20.  13.  18.  79.  14.  16.  21.\n",
            "   18.  16.  10.  18.  16.  18.]\n",
            " [ 12.  13.  12.  14.  19.  16.  19.  11.  11.  15.  14.  84.  15.  21.\n",
            "   15.  18.  11.  22.  13.  19.]\n",
            " [  9.  15.  15.  17.  16.  14.  23.  17.  15.  14.  16.  15.  97.  19.\n",
            "   18.  13.  14.  21.  15.  18.]\n",
            " [ 21.  16.  19.  21.  20.  19.  22.  21.  19.  18.  21.  21.  19. 132.\n",
            "   19.  16.  12.  22.  16.  24.]\n",
            " [ 11.  17.  12.  13.  19.  14.  15.  22.  19.  13.  18.  15.  18.  19.\n",
            "  114.  17.  13.  21.  17.  16.]\n",
            " [ 16.  17.  17.  12.  18.  17.  17.  16.  12.  18.  16.  18.  13.  16.\n",
            "   17.  80.   9.  19.  17.  13.]\n",
            " [  8.  12.  10.  12.  11.  14.  10.  12.  12.  11.  10.  11.  14.  12.\n",
            "   13.   9.  84.  12.  12.  11.]\n",
            " [ 14.  21.  16.  20.  26.  21.  20.  30.  14.  16.  18.  22.  21.  22.\n",
            "   21.  19.  12. 146.  21.  21.]\n",
            " [ 13.  93.  21.  16.  23.  25.  17.  20.  12.  22.  16.  13.  15.  16.\n",
            "   17.  17.  12.  21.  93.  18.]\n",
            " [ 13.  18.  17.  15.  20.  20.  21.  22.  14.  19.  18.  19.  18.  24.\n",
            "   16.  13.  11.  21.  18. 105.]]\n"
          ]
        }
      ]
    }
  ]
}